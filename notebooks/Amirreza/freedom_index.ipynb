{
 "cells": [
  {
   "cell_type": "code",
   "execution_count": null,
   "id": "4afedea3-de77-44c3-8562-4bb0409341f0",
   "metadata": {},
   "outputs": [],
   "source": [
    "import pandas as pd\n",
    "import numpy as np\n",
    "url = '/Users/amirrezakamkar/Desktop/Works_in_progress/Ironhack/4_4th_week/Project-data/HFI2021.csv'\n",
    "df_freedom = pd.read_csv(url)"
   ]
  },
  {
   "cell_type": "code",
   "execution_count": null,
   "id": "5a0170d3-9269-4ea5-9ff6-fcab2b21e89a",
   "metadata": {},
   "outputs": [],
   "source": [
    "df_freedom.head()"
   ]
  },
  {
   "cell_type": "code",
   "execution_count": null,
   "id": "c37c5919-7d6e-4548-9fb8-1e19e58d215c",
   "metadata": {},
   "outputs": [],
   "source": [
    "df_freedom_clean = df_freedom.iloc[:, :6]"
   ]
  },
  {
   "cell_type": "code",
   "execution_count": null,
   "id": "b4622fea-d9e7-4468-9b88-39e4690c4381",
   "metadata": {},
   "outputs": [],
   "source": [
    "df_freedom_clean.tail()"
   ]
  },
  {
   "cell_type": "code",
   "execution_count": null,
   "id": "51f19fef-4d50-498e-867c-357e064e89a0",
   "metadata": {},
   "outputs": [],
   "source": [
    "df_freedom_clean = df_freedom_clean[~df_freedom_clean['year'].between(2008, 2018)]"
   ]
  },
  {
   "cell_type": "code",
   "execution_count": null,
   "id": "8fbd87c2-8c5d-4d61-b9b9-20686aa1d61e",
   "metadata": {},
   "outputs": [],
   "source": [
    "df_freedom_clean.countries.unique()"
   ]
  },
  {
   "cell_type": "code",
   "execution_count": null,
   "id": "5a6ee65d-d44a-4be7-b9ba-62b89354e90b",
   "metadata": {},
   "outputs": [],
   "source": [
    "df_freedom_clean['countries'] = df_freedom_clean['countries'].replace({\n",
    "    'Iran, Islamic Rep.': 'Iran', \n",
    "    'Venezuela, RB': 'Venezuela', \n",
    "    'Yemen, Rep.': 'Yemen'\n",
    "})\n"
   ]
  },
  {
   "cell_type": "code",
   "execution_count": null,
   "id": "b2adb7e9-e08e-42e5-90c5-1fb565c759ce",
   "metadata": {},
   "outputs": [],
   "source": [
    "df_freedom_clean['hf_rank'] = df_freedom_clean['hf_rank'].astype(int)"
   ]
  },
  {
   "cell_type": "code",
   "execution_count": null,
   "id": "d2200100-db1a-4228-8523-af09556a0138",
   "metadata": {},
   "outputs": [],
   "source": [
    "df_freedom_clean.head()"
   ]
  },
  {
   "cell_type": "code",
   "execution_count": null,
   "id": "79394f03-b4a3-40bd-a706-bdc4a9e7f004",
   "metadata": {},
   "outputs": [],
   "source": [
    "df_freedom_clean.to_csv('/Users/amirrezakamkar/Desktop/Works_in_progress/Ironhack/4_4th_week/Project-data/freedom_index_clean.csv', index=False)"
   ]
  },
  {
   "cell_type": "code",
   "execution_count": null,
   "id": "bf541372-6f43-44b7-960e-0cd3f9997a83",
   "metadata": {},
   "outputs": [],
   "source": []
  }
 ],
 "metadata": {
  "kernelspec": {
   "display_name": "Python 3 (ipykernel)",
   "language": "python",
   "name": "python3"
  },
  "language_info": {
   "codemirror_mode": {
    "name": "ipython",
    "version": 3
   },
   "file_extension": ".py",
   "mimetype": "text/x-python",
   "name": "python",
   "nbconvert_exporter": "python",
   "pygments_lexer": "ipython3",
   "version": "3.12.4"
  }
 },
 "nbformat": 4,
 "nbformat_minor": 5
}
