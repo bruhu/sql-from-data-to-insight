{
 "cells": [
  {
   "cell_type": "code",
   "execution_count": null,
   "id": "e3d440c6-76f8-4a04-a855-eb18b7692589",
   "metadata": {},
   "outputs": [],
   "source": [
    "import pandas as pd\n",
    "import numpy as np\n",
    "import seaborn as sns\n",
    "import matplotlib.pyplot as plt\n",
    "import plotly.express as px\n",
    "import plotly.graph_objects as go\n",
    "import plotly.io as pio"
   ]
  },
  {
   "cell_type": "code",
   "execution_count": null,
   "id": "5dc7a569-785c-48e8-afcb-753bbf9bf942",
   "metadata": {},
   "outputs": [],
   "source": [
    "df = pd.read_csv('../../data/clean/combined_data.csv')\n",
    "df = df.rename(columns={'Life_Expectance_at_Birth': 'life_expectancy', 'gdp_per_capita_ppp':'gdp'})\n",
    "df"
   ]
  },
  {
   "cell_type": "markdown",
   "id": "3a24f8fd-d0c2-499c-a8a6-d6d0303cc5f1",
   "metadata": {},
   "source": [
    "## Life Expectancy vs. Happiness Score"
   ]
  },
  {
   "cell_type": "code",
   "execution_count": null,
   "id": "8fa42c0e-bdfb-4445-bdec-1609cf940c22",
   "metadata": {},
   "outputs": [],
   "source": [
    "sns.scatterplot(x='life_expectancy', y='score', data=df, hue='score', legend=False)\n",
    "plt.title('Life Expectancy vs. Happiness Score')\n",
    "plt.xlabel('Life Expectancy', fontsize=10) \n",
    "plt.ylabel('Happiness Score', fontsize=10)\n",
    "plt.savefig('life_expectancy_vs_happiness_score.png')\n",
    "## export plot\n",
    "plt.savefig('scatterplot_life_expectancy_vs_score.png', dpi=300)\n",
    "plt.show()"
   ]
  },
  {
   "cell_type": "markdown",
   "id": "0df2f105-7c26-4267-a390-c9932d4538e6",
   "metadata": {},
   "source": [
    "## GDP vs. Happiness Score"
   ]
  },
  {
   "cell_type": "code",
   "execution_count": null,
   "id": "de62cbf3-9ee7-45b2-a3c5-f4831134953d",
   "metadata": {},
   "outputs": [],
   "source": [
    "sns.scatterplot(x='gdp', y='score', data=df, hue='score')\n",
    "plt.title('GDP per Capita vs. Happiness Score')\n",
    "plt.xlabel('GDP', fontsize=10) \n",
    "plt.ylabel('Happiness Score', fontsize=10)\n",
    "plt.savefig('scatterplot_gdp_vs_score.png', dpi=300)\n",
    "plt.show()"
   ]
  },
  {
   "cell_type": "markdown",
   "id": "59fdaf52-b8cc-4ef3-88c2-ee1f21c685e5",
   "metadata": {},
   "source": [
    "## Life Expectancy vs. GDP"
   ]
  },
  {
   "cell_type": "code",
   "execution_count": null,
   "id": "0e1542dd-882c-43d4-b086-32158d6509f4",
   "metadata": {},
   "outputs": [],
   "source": [
    "sns.scatterplot(x='gdp', y='life_expectancy', data=df, hue='life_expectancy', legend=False)\n",
    "plt.title('Life Expectancy vs. GDP per Capita')\n",
    "plt.xlabel('GDP', fontsize=10) \n",
    "plt.ylabel('Life Expectancy', fontsize=10)\n",
    "## export plot\n",
    "plt.savefig('scatterplot_life_expectancy_vs_gdp.png', dpi=300)\n",
    "plt.show()"
   ]
  },
  {
   "cell_type": "markdown",
   "id": "d378c28f-3367-4d07-b10f-41ed1067be92",
   "metadata": {},
   "source": [
    "## Correlation Matrix"
   ]
  },
  {
   "cell_type": "code",
   "execution_count": null,
   "id": "631d04db-11d1-4a47-8a65-31f0a20445f2",
   "metadata": {},
   "outputs": [],
   "source": [
    "# select only numeric columns\n",
    "numeric_df = df.select_dtypes(include=[np.number])\n",
    "\n",
    "correlation_matrix = numeric_df.corr()\n",
    "\n",
    "# custom labels\n",
    "custom_labels = ['Ranking', 'Score', 'Life Expectancy', 'GDP per Capita', 'HF Score', 'HF Rank']\n",
    "\n",
    "sns.heatmap(correlation_matrix, annot=True, cmap='YlGnBu', fmt='.2f', xticklabels=custom_labels, yticklabels=custom_labels)\n",
    "plt.title('Correlation Matrix')\n",
    "## export plot\n",
    "plt.savefig('correlation_matrix.png', dpi=300)\n",
    "plt.show()"
   ]
  },
  {
   "cell_type": "markdown",
   "id": "f6d46dfa-2b73-4b9d-8455-d953a89ac077",
   "metadata": {},
   "source": [
    "## Happiness Score Distribution by Country"
   ]
  },
  {
   "cell_type": "code",
   "execution_count": null,
   "id": "93a487d2-576d-4d7d-97ba-f2d1cae05995",
   "metadata": {},
   "outputs": [],
   "source": [
    "# top_countries = df.sort_values(by='score', ascending=False).head(10)\n",
    "# sns.barplot(x='score', y='country', data=top_countries)\n",
    "# plt.title('Top 10 Countries by Happiness Score', fontsize=14)\n",
    "# plt.xlabel('Happiness Score', fontsize=10) \n",
    "# plt.ylabel('Country', fontsize=10)\n",
    "# ## export plot\n",
    "# plt.savefig('barplot_score_by_country.png', dpi=300)\n",
    "# plt.show()"
   ]
  },
  {
   "cell_type": "markdown",
   "id": "3efa77c3-d9ff-4647-b611-66fd3926066d",
   "metadata": {},
   "source": [
    "## Life Expectancy vs. Human Freedom Score"
   ]
  },
  {
   "cell_type": "code",
   "execution_count": null,
   "id": "8fb53089-4aca-427b-9da4-a4c021bcd801",
   "metadata": {},
   "outputs": [],
   "source": [
    "sns.scatterplot(x='hf_score', y='life_expectancy', data=df, hue='hf_score', legend=False)\n",
    "plt.title('Life Expectancy vs. Human Freedom Score')\n",
    "\n",
    "# Customize the labels\n",
    "plt.xlabel('Human Freedom Score', fontsize=10) \n",
    "plt.ylabel('Life Expectancy', fontsize=10)\n",
    "## export plot\n",
    "plt.savefig('scatterplot_life_expectancy_vs_hf_score.png', dpi=300)\n",
    "plt.show()\n",
    "\n"
   ]
  },
  {
   "cell_type": "markdown",
   "id": "cf5b5aa6-ab4b-42e5-9163-49de6eb32ce6",
   "metadata": {},
   "source": [
    "## GDP vs. Human Freedom Score"
   ]
  },
  {
   "cell_type": "code",
   "execution_count": null,
   "id": "8829df98-231c-485a-8b46-23f5e47ccb60",
   "metadata": {},
   "outputs": [],
   "source": [
    "sns.scatterplot(x='gdp', y='hf_score', data=df, hue='gdp', legend=False)\n",
    "plt.title('GDP vs. Human Freedom Score')\n",
    "plt.xlabel('GDP Per Capita', fontsize=10)\n",
    "plt.ylabel('Human Freedom Score', fontsize=10)\n",
    "## export plot\n",
    "plt.savefig('scatterplot_gdp_vs_hf_score.png', dpi=300)\n",
    "plt.show()\n",
    "\n"
   ]
  },
  {
   "cell_type": "markdown",
   "id": "d15d2279-6855-4ade-bb49-fb0bb6f72a24",
   "metadata": {},
   "source": [
    "## GDP per Capita vs. Human Freedom Score by Country"
   ]
  },
  {
   "cell_type": "code",
   "execution_count": null,
   "id": "6f2705ba-38a5-48ef-91d5-bd0c9ed65110",
   "metadata": {},
   "outputs": [],
   "source": [
    "sns.set(style='whitegrid')\n",
    "plt.figure(figsize=(35, 6))\n",
    "\n",
    "# Scatter plot with country names\n",
    "sns.scatterplot(x='country', y='hf_score', size='score', data=df, legend=False)\n",
    "\n",
    "plt.title('GDP per Capita vs. Human Freedom Score', fontsize=14)\n",
    "plt.xlabel('Country', fontsize=12)\n",
    "plt.ylabel('Human Freedom Score', fontsize=12)\n",
    "\n",
    "plt.xticks(rotation=45, ha='right', fontsize=10)\n",
    "\n",
    "plt.subplots_adjust(bottom=0.8)\n",
    "\n",
    "plt.tight_layout()\n",
    "## export plot\n",
    "plt.savefig('scatterplot_gdp_vs_hf_score.png', dpi=300)\n",
    "plt.show()\n",
    "\n"
   ]
  },
  {
   "cell_type": "markdown",
   "id": "ffa2c32f-aa9d-4ae5-b7d6-0852cafefbcc",
   "metadata": {},
   "source": [
    "## Country Rank by Human Freedom Rank"
   ]
  },
  {
   "cell_type": "code",
   "execution_count": null,
   "id": "a1a2c325-e5ee-464b-9970-cba381911760",
   "metadata": {},
   "outputs": [],
   "source": [
    "# top_hf_countries = df.sort_values(by='hf_rank').head(10)\n",
    "# sns.barplot(x='hf_rank', y='country', data=top_hf_countries)\n",
    "# plt.title('Top 10 Countries by Human Freedom Rank')\n",
    "# plt.xlabel('Human Freedom Rank', fontsize=10)\n",
    "# plt.ylabel('Country', fontsize=10) \n",
    "\n",
    "# plt.savefig('barplot_rank_by_hf.png', dpi=300)\n",
    "\n",
    "# plt.show()"
   ]
  },
  {
   "cell_type": "markdown",
   "id": "8a8d0331-6432-44c3-84ce-ec150bab8649",
   "metadata": {},
   "source": [
    "## Interactive Visualizations"
   ]
  },
  {
   "cell_type": "code",
   "execution_count": null,
   "id": "3936fcb9-5355-4587-9897-e497fa0ad122",
   "metadata": {},
   "outputs": [],
   "source": [
    "import plotly.express as px\n",
    "fig = px.scatter(df, x='gdp', y='score', color='country', hover_name='country')\n",
    "fig.update_layout(\n",
    "    title='GDP per Capita vs Happiness Score',\n",
    "    xaxis_title='GDP per Capita', \n",
    "    yaxis_title='Happiness Score',\n",
    "    legend_title='Country',\n",
    "    hovermode='closest' # Ensures hover works smoothly\n",
    ")\n",
    "\n",
    "# customize displayed text on hover\n",
    "fig.update_traces(\n",
    "    hovertemplate='<b>%{hovertext}</b><br>' +\n",
    "                  'GDP per Capita: %{x}<br>' +\n",
    "                  'Happiness Score: %{y}<br>' \n",
    ")\n",
    "# fig.write_image('gdp_per_capita_vs_happiness_score.png')\n",
    "fig.write_html('gdp_per_capita_vs_happiness_score.html')\n",
    "\n",
    "fig.show()"
   ]
  },
  {
   "cell_type": "markdown",
   "id": "9cb1a0c1-b7e9-49c2-b24f-04c9a5647287",
   "metadata": {},
   "source": [
    "## Interactive Bar Plot (Country Rankings vs Life Expectancy)"
   ]
  },
  {
   "cell_type": "code",
   "execution_count": null,
   "id": "30d97bcc-ac66-4474-9cc4-a44eb4c839bd",
   "metadata": {},
   "outputs": [],
   "source": [
    "fig = px.bar(\n",
    "    df, \n",
    "    x='country', \n",
    "    y='life_expectancy', \n",
    "    color='hf_score',  # Color bars based on hf_score\n",
    "    title='Country vs Life Expectancy',\n",
    "    labels={'life_expectancy': 'Life Expectancy', 'country': 'Country'},\n",
    "    hover_data=['gdp', 'hf_score']\n",
    ")\n",
    "\n",
    "\n",
    "fig.update_layout(\n",
    "    xaxis_tickangle=-45,\n",
    "    xaxis_title='Country',\n",
    "    yaxis_title='Life Expectancy',\n",
    "    showlegend=True,\n",
    "    coloraxis_colorbar_title='HF Score'\n",
    ")\n",
    "\n",
    "# customize displayed text on hover\n",
    "fig.update_traces(\n",
    "    hovertemplate='Country: %{x}<br>' +\n",
    "                  'Life Expectancy: %{y}<br>' +\n",
    "                  'GDP per Capita (PPP): %{customdata[0]}<br>' + \n",
    "                  'HF Score: %{customdata[1]}<br>' \n",
    ")\n",
    "fig.write_html('ranking_vs_life_expectancy.html')\n",
    "\n",
    "fig.show()"
   ]
  },
  {
   "cell_type": "markdown",
   "id": "0a3a31e9-2c92-40d4-bef8-7dff1bd59c55",
   "metadata": {},
   "source": [
    "## Interactive Bar Plot (GDP vs Life Expectancy)"
   ]
  },
  {
   "cell_type": "code",
   "execution_count": null,
   "id": "88916a8c-9a5c-48dc-8957-5b09d0b2aa31",
   "metadata": {},
   "outputs": [],
   "source": [
    "fig = px.scatter(\n",
    "    df, \n",
    "    x='gdp', \n",
    "    y='life_expectancy', \n",
    "    size='score',  \n",
    "    color='country',  \n",
    "    hover_name='country',\n",
    "    title='GDP vs Life Expectancy',\n",
    "    labels={'gdp': 'GDP per Capita (PPP)', 'life_expectancy': 'Life Expectancy'}\n",
    ")\n",
    "\n",
    "fig.update_layout(\n",
    "    showlegend=False,\n",
    "    xaxis_title='GDP per Capita',\n",
    "    yaxis_title='Life Expectancy',\n",
    ")\n",
    "\n",
    "fig.update_traces(\n",
    "    hovertemplate='<b>Country:</b> %{hovertext}<br>' +\n",
    "                  '<b>GDP per Capita:</b> $%{x:,.2f}<br>' +\n",
    "                  '<b>Life Expectancy:</b> %{y} years<br>' +\n",
    "                  '<b>Happiness Score:</b> %{marker.size}<br>' +\n",
    "                  '<extra></extra>'\n",
    ")\n",
    "\n",
    "fig.write_html('gdp_vs_life_expectancy.html')\n",
    "\n",
    "\n",
    "fig.show()"
   ]
  },
  {
   "cell_type": "markdown",
   "id": "16ba7025-298c-47e5-bc03-ea3664b3250a",
   "metadata": {},
   "source": [
    "## Life Expectancy vs HF Score"
   ]
  },
  {
   "cell_type": "code",
   "execution_count": null,
   "id": "4ed0ceca-9bb4-4b1a-ab79-4414ba00b95b",
   "metadata": {},
   "outputs": [],
   "source": [
    "fig = px.scatter(\n",
    "    df, \n",
    "    x='hf_score', \n",
    "    y='life_expectancy', \n",
    "    size='score',  # bubble size\n",
    "    color='country',  # color points by country\n",
    "    hover_name='country',  # show country name when hovering\n",
    "    title='Life Expectancy vs HF Score',\n",
    "    labels={'hf_score': 'HF Score', 'life_expectancy': 'Life Expectancy'}\n",
    ")\n",
    "\n",
    "fig.update_layout(\n",
    "    showlegend=False,\n",
    "    xaxis_title='HF Score',\n",
    "    yaxis_title='Life Expectancy',\n",
    ")\n",
    "\n",
    "fig.update_traces(\n",
    "    hovertemplate='<b>Country:</b> %{hovertext}<br>' +\n",
    "                  '<b>HF Score:</b> %{x}<br>' +\n",
    "                  '<b>Life Expectancy:</b> %{y} years<br>' +\n",
    "                  '<b>Score:</b> %{marker.size}<br>' +\n",
    "                  '<extra></extra>'\n",
    ")\n",
    "\n",
    "fig.write_html('life_expectancy_vs_hf_score.html')\n",
    "\n",
    "fig.show()"
   ]
  },
  {
   "cell_type": "markdown",
   "id": "a9ce65c3-b14c-4905-bcf8-ae108fe09105",
   "metadata": {},
   "source": [
    "## Relationships between GDP per capita, life expectancy, and HF score"
   ]
  },
  {
   "cell_type": "code",
   "execution_count": null,
   "id": "6b84cd71-258a-4729-b041-42726736a11a",
   "metadata": {},
   "outputs": [],
   "source": [
    "sns.set(style='whitegrid')\n",
    "\n",
    "# GDP per Capita vs. Life Expectancy\n",
    "plt.figure(figsize=(14, 6))\n",
    "plt.subplot(1, 2, 1)\n",
    "sns.scatterplot(x='gdp', y='life_expectancy', hue='hf_score', size='hf_score', \n",
    "                sizes=(50, 300), data=df, palette='viridis')\n",
    "plt.title('GDP per Capita vs. Life Expectancy')\n",
    "plt.xlabel('GDP per Capita')\n",
    "plt.ylabel('Life Expectancy')\n",
    "plt.legend(title='HF Score', fontsize=10)\n",
    "\n",
    "\n",
    "# GDP per Capita vs. Score\n",
    "plt.subplot(1, 2, 2)\n",
    "sns.scatterplot(x='gdp', y='hf_score', hue='life_expectancy', size='life_expectancy', \n",
    "                sizes=(50, 300), data=df, palette='coolwarm')\n",
    "plt.title('GDP per Capita vs. HF Score')\n",
    "plt.xlabel('GDP per Capita')\n",
    "plt.ylabel('HF Score')\n",
    "plt.legend(title='HF Score', fontsize=10)\n",
    "\n",
    "plt.tight_layout()\n",
    "plt.savefig('gdp_lifeexp_hf_relationship.png', dpi=300)\n",
    "\n",
    "plt.show()"
   ]
  },
  {
   "cell_type": "markdown",
   "id": "49a4721d-1630-4d1f-843d-3c4ee9a47b7b",
   "metadata": {},
   "source": [
    "## Correlation matrix between Happiness Score, Life Expectancy and GDP"
   ]
  },
  {
   "cell_type": "code",
   "execution_count": null,
   "id": "f51cc3ac-0c0e-4b06-b179-68138621dc44",
   "metadata": {},
   "outputs": [],
   "source": [
    "# compute the correlation matrix\n",
    "corr_matrix = df[['ranking', 'score', 'life_expectancy', 'gdp', 'hf_score', 'hf_rank']].corr()\n",
    "\n",
    "# custom labels\n",
    "custom_labels = ['Ranking', 'Happiness Score', 'Life Expectancy', 'GDP per Capita', 'HF Score', 'HF Rank']\n",
    "\n",
    "plt.figure(figsize=(10, 8))\n",
    "sns.heatmap(corr_matrix, annot=True, cmap='cubehelix', vmin=-1, vmax=1, xticklabels=custom_labels, yticklabels=custom_labels)\n",
    "plt.title('Correlation Matrix')\n",
    "\n",
    "plt.savefig('correlation_score_lifeexp_gdp.png', dpi=300)\n",
    "\n",
    "plt.show()"
   ]
  },
  {
   "cell_type": "markdown",
   "id": "ef610670-ad4d-42e7-9fc9-803d7126b722",
   "metadata": {},
   "source": [
    "## Correlation Matrix between Variables"
   ]
  },
  {
   "cell_type": "code",
   "execution_count": null,
   "id": "f3f91e34-d11a-44f6-9777-b827629818c7",
   "metadata": {},
   "outputs": [],
   "source": [
    "corr_matrix = df[['ranking', 'score', 'life_expectancy', 'gdp', 'hf_score', 'hf_rank']].corr()\n",
    "\n",
    "custom_labels = ['Ranking', 'Happiness Score', 'Life Expectancy', 'GDP per Capita', 'HF Score', 'HF Rank']\n",
    "\n",
    "\n",
    "fig = go.Figure(\n",
    "    data=go.Heatmap(\n",
    "        z=corr_matrix.values,\n",
    "        x=custom_labels,\n",
    "        y=custom_labels,\n",
    "        colorscale='viridis', \n",
    "        zmin=-1, zmax=1, \n",
    "        hoverongaps=False,\n",
    "        text=corr_matrix.round(2).values, \n",
    "        hovertemplate='<b>%{x}</b> vs <b>%{y}</b><br>' + \n",
    "                      '<i>Correlation Value:</i> %{text}<br>' + \n",
    "                      '<extra></extra>'\n",
    "    )\n",
    ")\n",
    "\n",
    "\n",
    "fig.update_layout(\n",
    "    title='Correlation Matrix between Variables',\n",
    "    xaxis_nticks=36,\n",
    "    xaxis_title='Variables',\n",
    "    yaxis_title='Variables',\n",
    "    width=800,\n",
    "    height=800,\n",
    "    showlegend=False,\n",
    "    font=dict(size=14) \n",
    ")\n",
    "\n",
    "fig.write_html('variable_correlation_matrix.html')\n",
    "\n",
    "fig.show()"
   ]
  },
  {
   "cell_type": "markdown",
   "id": "9f76961c-9f85-4523-b8cf-baddc81057fa",
   "metadata": {},
   "source": [
    "## Relationship between GDP per capita and life expectancy, with the size of each bubble representing the HF score"
   ]
  },
  {
   "cell_type": "code",
   "execution_count": null,
   "id": "11ff8427-92b3-48b7-b613-336b85462769",
   "metadata": {},
   "outputs": [],
   "source": [
    "fig = px.scatter(\n",
    "    df,\n",
    "    x='gdp',\n",
    "    y='life_expectancy',\n",
    "    size='hf_score',  # bubble size\n",
    "    hover_name='country',  # country names on hover\n",
    "    title='GDP per Capita vs Life Expectancy (Bubble Size: HF Score)',\n",
    "    labels={\n",
    "        'gdp': 'GDP per Capita',\n",
    "        'life_expectancy': 'Life Expectancy',\n",
    "        'hf_score':'HF Score'\n",
    "    },\n",
    "    color='hf_score',  # color based on hf_score\n",
    "    color_continuous_scale='viridis'\n",
    ")\n",
    "\n",
    "fig.write_html('gdp_lifeexp_relationship.html')\n",
    "\n",
    "\n",
    "fig.show()"
   ]
  },
  {
   "cell_type": "markdown",
   "id": "78580b0b-28a1-4cbf-8527-ea8ce5c20b0c",
   "metadata": {},
   "source": [
    "## Calculate the correlation between GDP, life expectancy, and happiness score"
   ]
  },
  {
   "cell_type": "code",
   "execution_count": null,
   "id": "a953d5a0-16d2-40d6-b1bd-0f1bac62c77c",
   "metadata": {},
   "outputs": [],
   "source": [
    "correlation_matrix = df[['gdp', 'life_expectancy', 'score']].corr()\n",
    "\n",
    "print(correlation_matrix)"
   ]
  },
  {
   "cell_type": "markdown",
   "id": "af36c862-9356-488c-b90c-9bb6c3e8b499",
   "metadata": {},
   "source": [
    "## Heatmap of the correlation matrix"
   ]
  },
  {
   "cell_type": "code",
   "execution_count": null,
   "id": "f41a529a-182a-4608-9cc1-ae6621598f30",
   "metadata": {},
   "outputs": [],
   "source": [
    "correlation_matrix = df[['gdp', 'life_expectancy', 'score']].corr()\n",
    "\n",
    "correlation_matrix = correlation_matrix.rename(\n",
    "    columns={\n",
    "        'gdp': 'GDP per Capita', \n",
    "        'life_expectancy': 'Life Expectancy', \n",
    "        'score': 'Happiness Score'\n",
    "    },\n",
    "    index={\n",
    "        'gdp': 'GDP per Capita', \n",
    "        'life_expectancy': 'Life Expectancy', \n",
    "        'score': 'Happiness Score'\n",
    "    }\n",
    ")\n",
    "\n",
    "\n",
    "plt.figure(figsize=(8, 6))\n",
    "sns.heatmap(correlation_matrix, annot=True, cmap='crest', fmt='.2f', cbar=True, linewidths=0.5, \n",
    "            annot_kws={'size': 12}, cbar_kws={'shrink': 0.8})\n",
    "\n",
    "plt.title('Correlation Matrix of GDP, Life Expectancy, and Happiness Score', fontsize=16)\n",
    "\n",
    "plt.yticks(rotation=0, fontsize=12)\n",
    "plt.xticks(fontsize=12)\n",
    "\n",
    "plt.savefig('correlation_matrix_main_factors.png', dpi=300)\n",
    "\n",
    "plt.show()"
   ]
  },
  {
   "cell_type": "code",
   "execution_count": null,
   "id": "e20adfc3-b054-4197-a2dc-41630fc19e51",
   "metadata": {},
   "outputs": [],
   "source": []
  }
 ],
 "metadata": {
  "kernelspec": {
   "display_name": "venv",
   "language": "python",
   "name": "venv"
  },
  "language_info": {
   "codemirror_mode": {
    "name": "ipython",
    "version": 3
   },
   "file_extension": ".py",
   "mimetype": "text/x-python",
   "name": "python",
   "nbconvert_exporter": "python",
   "pygments_lexer": "ipython3",
   "version": "3.12.2"
  }
 },
 "nbformat": 4,
 "nbformat_minor": 5
}
