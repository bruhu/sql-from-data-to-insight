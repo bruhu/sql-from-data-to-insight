{
 "cells": [
  {
   "cell_type": "code",
   "execution_count": null,
   "id": "e3d440c6-76f8-4a04-a855-eb18b7692589",
   "metadata": {},
   "outputs": [],
   "source": [
    "import pandas as pd\n",
    "import numpy as np\n",
    "import seaborn as sns\n",
    "import matplotlib.pyplot as plt\n",
    "import plotly.express as px"
   ]
  },
  {
   "cell_type": "code",
   "execution_count": null,
   "id": "5dc7a569-785c-48e8-afcb-753bbf9bf942",
   "metadata": {},
   "outputs": [],
   "source": [
    "df = pd.read_csv('../../data/clean/combined_data.csv')\n",
    "df = df.rename(columns={'Life_Expectance_at_Birth': 'life_expectancy'})\n",
    "df"
   ]
  },
  {
   "cell_type": "markdown",
   "id": "3a24f8fd-d0c2-499c-a8a6-d6d0303cc5f1",
   "metadata": {},
   "source": [
    "## Life Expectancy vs. Happiness Score"
   ]
  },
  {
   "cell_type": "code",
   "execution_count": null,
   "id": "8fa42c0e-bdfb-4445-bdec-1609cf940c22",
   "metadata": {},
   "outputs": [],
   "source": [
    "sns.scatterplot(x='life_expectancy', y='score', data=df)\n",
    "plt.title('Life Expectancy vs. Happiness Score')\n",
    "plt.show()"
   ]
  },
  {
   "cell_type": "markdown",
   "id": "0df2f105-7c26-4267-a390-c9932d4538e6",
   "metadata": {},
   "source": [
    "## GDP vs. Happiness Score"
   ]
  },
  {
   "cell_type": "code",
   "execution_count": null,
   "id": "de62cbf3-9ee7-45b2-a3c5-f4831134953d",
   "metadata": {},
   "outputs": [],
   "source": [
    "sns.scatterplot(x='gdp_per_capita_ppp', y='score', data=df)\n",
    "plt.title('GDP per Capita vs. Happiness Score')\n",
    "plt.show()"
   ]
  },
  {
   "cell_type": "markdown",
   "id": "59fdaf52-b8cc-4ef3-88c2-ee1f21c685e5",
   "metadata": {},
   "source": [
    "## Life Expectancy vs. GDP"
   ]
  },
  {
   "cell_type": "code",
   "execution_count": null,
   "id": "0e1542dd-882c-43d4-b086-32158d6509f4",
   "metadata": {},
   "outputs": [],
   "source": [
    "sns.scatterplot(x='gdp_per_capita_ppp', y='life_expectancy', data=df)\n",
    "plt.title('Life Expectancy vs. GDP per Capita')\n",
    "plt.show()"
   ]
  },
  {
   "cell_type": "markdown",
   "id": "d378c28f-3367-4d07-b10f-41ed1067be92",
   "metadata": {},
   "source": [
    "## Correlation Matrix"
   ]
  },
  {
   "cell_type": "code",
   "execution_count": null,
   "id": "631d04db-11d1-4a47-8a65-31f0a20445f2",
   "metadata": {},
   "outputs": [],
   "source": [
    "# Select only numeric columns\n",
    "numeric_df = df.select_dtypes(include=[np.number])\n",
    "\n",
    "# Compute the correlation matrix\n",
    "correlation_matrix = numeric_df.corr()\n",
    "\n",
    "# Plot the heatmap\n",
    "sns.heatmap(correlation_matrix, annot=True, cmap='coolwarm', fmt='.2f')\n",
    "plt.title('Correlation Matrix')\n",
    "plt.show()"
   ]
  },
  {
   "cell_type": "markdown",
   "id": "f6d46dfa-2b73-4b9d-8455-d953a89ac077",
   "metadata": {},
   "source": [
    "## Happiness Score Distribution by Country"
   ]
  },
  {
   "cell_type": "code",
   "execution_count": null,
   "id": "93a487d2-576d-4d7d-97ba-f2d1cae05995",
   "metadata": {},
   "outputs": [],
   "source": [
    "top_countries = df.sort_values(by='score', ascending=False).head(10)\n",
    "sns.barplot(x='score', y='country', data=top_countries)\n",
    "plt.title('Top 10 Countries by Happiness Score')\n",
    "plt.show()"
   ]
  },
  {
   "cell_type": "markdown",
   "id": "3efa77c3-d9ff-4647-b611-66fd3926066d",
   "metadata": {},
   "source": [
    "## Life Expectancy vs. Human Freedom Score"
   ]
  },
  {
   "cell_type": "code",
   "execution_count": null,
   "id": "8fb53089-4aca-427b-9da4-a4c021bcd801",
   "metadata": {},
   "outputs": [],
   "source": [
    "sns.scatterplot(x='hf_score', y='life_expectancy', data=df)\n",
    "plt.title('Life Expectancy vs. Human Freedom Score')\n",
    "plt.show()"
   ]
  },
  {
   "cell_type": "markdown",
   "id": "cf5b5aa6-ab4b-42e5-9163-49de6eb32ce6",
   "metadata": {},
   "source": [
    "## GDP vs. Human Freedom Score"
   ]
  },
  {
   "cell_type": "code",
   "execution_count": null,
   "id": "8829df98-231c-485a-8b46-23f5e47ccb60",
   "metadata": {},
   "outputs": [],
   "source": [
    "sns.scatterplot(x='gdp_per_capita_ppp', y='hf_score', data=df)\n",
    "plt.title('GDP vs. Human Freedom Score')\n",
    "plt.show()"
   ]
  },
  {
   "cell_type": "markdown",
   "id": "d15d2279-6855-4ade-bb49-fb0bb6f72a24",
   "metadata": {},
   "source": [
    "## GDP per Capita vs. Human Freedom Score by Country"
   ]
  },
  {
   "cell_type": "code",
   "execution_count": null,
   "id": "6f2705ba-38a5-48ef-91d5-bd0c9ed65110",
   "metadata": {},
   "outputs": [],
   "source": [
    "sns.scatterplot(x='country', y='hf_score', size='score', data=df, legend=False)\n",
    "plt.title('GDP per Capita vs. Human Freedom Score')\n",
    "plt.show()"
   ]
  },
  {
   "cell_type": "markdown",
   "id": "ffa2c32f-aa9d-4ae5-b7d6-0852cafefbcc",
   "metadata": {},
   "source": [
    "## Country Rank by Human Freedom Score"
   ]
  },
  {
   "cell_type": "code",
   "execution_count": null,
   "id": "a1a2c325-e5ee-464b-9970-cba381911760",
   "metadata": {},
   "outputs": [],
   "source": [
    "top_hf_countries = df.sort_values(by='hf_rank').head(10)\n",
    "sns.barplot(x='hf_rank', y='country', data=top_hf_countries)\n",
    "plt.title('Top 10 Countries by Human Freedom Rank')\n",
    "plt.show()"
   ]
  },
  {
   "cell_type": "markdown",
   "id": "8a8d0331-6432-44c3-84ce-ec150bab8649",
   "metadata": {},
   "source": [
    "## Interactive Visualizations"
   ]
  },
  {
   "cell_type": "code",
   "execution_count": null,
   "id": "3936fcb9-5355-4587-9897-e497fa0ad122",
   "metadata": {},
   "outputs": [],
   "source": [
    "import plotly.express as px\n",
    "fig = px.scatter(df, x='gdp_per_capita_ppp', y='score', color='country', hover_name='country')\n",
    "fig.update_layout(title='GDP per Capita vs Happiness Score')\n",
    "fig.show()"
   ]
  },
  {
   "cell_type": "markdown",
   "id": "9cb1a0c1-b7e9-49c2-b24f-04c9a5647287",
   "metadata": {},
   "source": [
    "## Interactive Bar Plot (Country Rankings vs Life Expectancy)"
   ]
  },
  {
   "cell_type": "code",
   "execution_count": null,
   "id": "30d97bcc-ac66-4474-9cc4-a44eb4c839bd",
   "metadata": {},
   "outputs": [],
   "source": [
    "fig = px.bar(\n",
    "    df, \n",
    "    x=\"country\", \n",
    "    y=\"life_expectancy\", \n",
    "    color=\"hf_score\",  # Optionally color by another column (e.g., Human Freedom Score)\n",
    "    title=\"Country vs Life Expectancy\",\n",
    "    labels={\"life_expectancy\": \"Life Expectancy\", \"country\": \"Country\"},\n",
    "    hover_data=[\"gdp_per_capita_ppp\", \"hf_score\"]  # Display extra data when hovering\n",
    ")\n",
    "\n",
    "fig.update_layout(\n",
    "    xaxis_tickangle=-45,  # Tilt the country names for better readability\n",
    "    xaxis_title=\"Country\",\n",
    "    yaxis_title=\"Life Expectancy\",\n",
    "    showlegend=True\n",
    ")\n",
    "\n",
    "fig.show()"
   ]
  },
  {
   "cell_type": "markdown",
   "id": "0a3a31e9-2c92-40d4-bef8-7dff1bd59c55",
   "metadata": {},
   "source": [
    "## Interactive Bar Plot (GDP vs Life Expectancy)"
   ]
  },
  {
   "cell_type": "code",
   "execution_count": null,
   "id": "88916a8c-9a5c-48dc-8957-5b09d0b2aa31",
   "metadata": {},
   "outputs": [],
   "source": [
    "fig = px.scatter(\n",
    "    df, \n",
    "    x=\"gdp_per_capita_ppp\", \n",
    "    y=\"life_expectancy\", \n",
    "    size=\"score\",  # Size of the bubble is determined by the 'score'\n",
    "    color=\"country\",  # Color each point by country\n",
    "    hover_name=\"country\",  # Show country name when hovering\n",
    "    title=\"GDP vs Life Expectancy\",\n",
    "    labels={\"gdp_per_capita_ppp\": \"GDP per Capita (PPP)\", \"life_expectancy\": \"Life Expectancy\"}\n",
    ")\n",
    "\n",
    "fig.update_layout(\n",
    "    showlegend=False,\n",
    "    xaxis_title=\"GDP per Capita (PPP)\",\n",
    "    yaxis_title=\"Life Expectancy\",\n",
    ")\n",
    "\n",
    "fig.show()"
   ]
  },
  {
   "cell_type": "markdown",
   "id": "16ba7025-298c-47e5-bc03-ea3664b3250a",
   "metadata": {},
   "source": [
    "## Life Expectancy vs Happiness Score"
   ]
  },
  {
   "cell_type": "code",
   "execution_count": null,
   "id": "4ed0ceca-9bb4-4b1a-ab79-4414ba00b95b",
   "metadata": {},
   "outputs": [],
   "source": [
    "fig = px.scatter(\n",
    "    df, \n",
    "    x=\"hf_score\", \n",
    "    y=\"life_expectancy\", \n",
    "    size=\"score\",  # Size of the bubble is determined by the 'score'\n",
    "    color=\"country\",  # Color each point by country\n",
    "    hover_name=\"country\",  # Show country name when hovering\n",
    "    title=\"Life Expectancy vs Happiness Score\",\n",
    "    labels={\"hf_score\": \"Happiness Score\", \"life_expectancy\": \"Life Expectancy\"}\n",
    ")\n",
    "\n",
    "fig.update_layout(\n",
    "    showlegend=False,\n",
    "    xaxis_title=\"Happiness Score\",\n",
    "    yaxis_title=\"Life Expectancy\",\n",
    ")\n",
    "\n",
    "fig.show()"
   ]
  },
  {
   "cell_type": "code",
   "execution_count": null,
   "id": "6f46226a-6658-4979-baa0-d7448c85aee5",
   "metadata": {},
   "outputs": [],
   "source": []
  }
 ],
 "metadata": {
  "kernelspec": {
   "display_name": "venv",
   "language": "python",
   "name": "venv"
  },
  "language_info": {
   "codemirror_mode": {
    "name": "ipython",
    "version": 3
   },
   "file_extension": ".py",
   "mimetype": "text/x-python",
   "name": "python",
   "nbconvert_exporter": "python",
   "pygments_lexer": "ipython3",
   "version": "3.12.2"
  }
 },
 "nbformat": 4,
 "nbformat_minor": 5
}
