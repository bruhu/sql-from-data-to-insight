{
 "cells": [
  {
   "cell_type": "code",
   "execution_count": null,
   "id": "53f18c28-2eab-46bf-ba7e-f1f31c9dc0c8",
   "metadata": {},
   "outputs": [],
   "source": [
    "import pandas as pd"
   ]
  },
  {
   "cell_type": "markdown",
   "id": "d16d6644-06a5-4928-aef8-4f6540994d33",
   "metadata": {},
   "source": [
    "## Import datasets from 2015 to 2019"
   ]
  },
  {
   "cell_type": "code",
   "execution_count": null,
   "id": "65e816d3-f6fb-41b7-978e-5df9248e9ee4",
   "metadata": {},
   "outputs": [],
   "source": [
    "df15 = pd.read_csv('../data/raw/2015.csv')\n",
    "# df15"
   ]
  },
  {
   "cell_type": "code",
   "execution_count": null,
   "id": "f2944220-a632-436b-8dfa-7f72f379e998",
   "metadata": {},
   "outputs": [],
   "source": [
    "df16 = pd.read_csv('../data/raw/2016.csv')\n",
    "# df16"
   ]
  },
  {
   "cell_type": "code",
   "execution_count": null,
   "id": "ee3f323e-6d70-42a8-aa89-12dfa5d5b933",
   "metadata": {},
   "outputs": [],
   "source": [
    "df17 = pd.read_csv('../data/raw/2017.csv')\n",
    "# df17"
   ]
  },
  {
   "cell_type": "code",
   "execution_count": null,
   "id": "e7ca9c70-cfd2-407e-b972-ef29deb41395",
   "metadata": {},
   "outputs": [],
   "source": [
    "df18 = pd.read_csv('../data/raw/2018.csv')\n",
    "# df18"
   ]
  },
  {
   "cell_type": "code",
   "execution_count": null,
   "id": "0b71bba0-98b3-4187-96df-64e6de32a999",
   "metadata": {},
   "outputs": [],
   "source": [
    "df19 = pd.read_csv('../data/raw/2019.csv')\n",
    "# df19"
   ]
  },
  {
   "cell_type": "code",
   "execution_count": null,
   "id": "4ced63c0-c36e-40d8-9f4c-2e434f0d123a",
   "metadata": {},
   "outputs": [],
   "source": [
    "# Standardize column names\n",
    "def standardize_col_names(df):\n",
    "    df.columns = df.columns.str.strip()\n",
    "    df.columns = df.columns.str.lower()\n",
    "    df.columns = df.columns.str.replace(' ', '_') \n",
    "    df.columns = df.columns.str.replace('.', '_')\n",
    "    return df\n",
    "\n",
    "# Check unique values in each column\n",
    "def check_unique_vals(df):\n",
    "    for column in df.columns:\n",
    "        print(f\"Unique values in '{column}':\")\n",
    "        print(df[column].unique())\n",
    "        print()"
   ]
  },
  {
   "cell_type": "markdown",
   "id": "d8baae9e-9139-4940-8d85-c77818200a93",
   "metadata": {},
   "source": [
    "## 2015 dataset"
   ]
  },
  {
   "cell_type": "code",
   "execution_count": null,
   "id": "f9cca302-fbf5-41fc-8e64-bff95db661f6",
   "metadata": {},
   "outputs": [],
   "source": [
    "standardize_col_names(df15)\n",
    "df15 = df15.drop(columns=['standard_error', 'family', 'dystopia_residual'])\n",
    "df15.rename(columns={'happiness_rank': 'rank', 'happiness_score': 'score', 'economy_(gdp_per_capita)':'gdp', 'social_support':'support', 'health_(life_expectancy)':'life_expectancy','freedom_to_make_life_choices':'freedom','trust_(government_corruption)':'corruption'}, inplace=True)\n",
    "df15\n",
    "# check datatypes\n",
    "print('\\ndata types\\n')\n",
    "print(df15.dtypes)"
   ]
  },
  {
   "cell_type": "markdown",
   "id": "dcee10b4-7c94-4180-98b9-c3e2837628c1",
   "metadata": {},
   "source": [
    "## 2016 dataset"
   ]
  },
  {
   "cell_type": "code",
   "execution_count": null,
   "id": "6fcfafd5-e18f-427d-9db1-55a5d2f34c8b",
   "metadata": {},
   "outputs": [],
   "source": [
    "standardize_col_names(df16)\n",
    "df16 = df16.drop(columns=['lower_confidence_interval', 'upper_confidence_interval', 'family', 'dystopia_residual'])\n",
    "df16.rename(columns={'happiness_rank': 'rank', 'happiness_score': 'score', 'economy_(gdp_per_capita)':'gdp', 'social_support':'support', 'health_(life_expectancy)':'life_expectancy','freedom_to_make_life_choices':'freedom','trust_(government_corruption)':'corruption'}, inplace=True)\n",
    "df16\n",
    "# check datatypes\n",
    "print('\\ndata types\\n')\n",
    "print(df16.dtypes)"
   ]
  },
  {
   "cell_type": "markdown",
   "id": "326386d5-0749-4525-bded-f3711ca76456",
   "metadata": {},
   "source": [
    "## 2017"
   ]
  },
  {
   "cell_type": "code",
   "execution_count": null,
   "id": "35c695a5-0c97-4de9-bd86-6fd8e8269310",
   "metadata": {},
   "outputs": [],
   "source": [
    "standardize_col_names(df17)\n",
    "df17 = df17.drop(columns=['whisker_high', 'whisker_low', 'family', 'dystopia_residual'])\n",
    "df17.rename(columns={'happiness_rank': 'rank', 'happiness_score': 'score', 'economy__gdp_per_capita_':'gdp', 'social_support':'support', 'health__life_expectancy_':'life_expectancy','freedom_to_make_life_choices':'freedom','trust__government_corruption_':'corruption'}, inplace=True)\n",
    "df17\n",
    "# check datatypes\n",
    "print('\\ndata types\\n')\n",
    "print(df17.dtypes)"
   ]
  },
  {
   "cell_type": "markdown",
   "id": "cef0e18c-44e4-42e6-82fe-6c5ae710cca3",
   "metadata": {},
   "source": [
    "## 2018"
   ]
  },
  {
   "cell_type": "code",
   "execution_count": null,
   "id": "2865b32f-daf4-4e38-aab8-cba494470eb6",
   "metadata": {},
   "outputs": [],
   "source": [
    "standardize_col_names(df18)\n",
    "df18.rename(columns={'overall_rank': 'rank', 'country_or_region': 'country', 'gdp_per_capita':'gdp', 'social_support':'support', 'healthy_life_expectancy':'life_expectancy','freedom_to_make_life_choices':'freedom','perceptions_of_corruption':'corruption'}, inplace=True)\n",
    "df18\n",
    "# check datatypes\n",
    "print('\\ndata types\\n')\n",
    "print(df18.dtypes)"
   ]
  },
  {
   "cell_type": "markdown",
   "id": "018cd742-fe5c-480c-9cee-3246e92326d7",
   "metadata": {},
   "source": [
    "## 2019"
   ]
  },
  {
   "cell_type": "code",
   "execution_count": null,
   "id": "ecad3d5b-a018-49a8-8162-0427fb0344db",
   "metadata": {},
   "outputs": [],
   "source": [
    "# clean column names\n",
    "standardize_col_names(df19)\n",
    "df19.rename(columns={'overall_rank': 'rank', 'country_or_region': 'country', 'gdp_per_capita':'gdp', 'social_support':'support', 'healthy_life_expectancy':'life_expectancy','freedom_to_make_life_choices':'freedom','perceptions_of_corruption':'corruption'}, inplace=True)\n",
    "df19\n",
    "\n",
    "# check datatypes\n",
    "print('\\ndata types\\n')\n",
    "print(df19.dtypes)\n",
    "\n",
    "df19.to_csv('2019_clean.csv', index=False)"
   ]
  },
  {
   "cell_type": "markdown",
   "id": "aca3d218-6ccf-4552-bbcb-c9f706d5b3ce",
   "metadata": {},
   "source": [
    "### Some conclusions\n",
    "- 2018 and 2019 have data on social support ('support' column)\n",
    "- not all datasets have the 'region' information -> can be found, but we first need to decide whether it is important\n",
    "- "
   ]
  },
  {
   "cell_type": "markdown",
   "id": "327c05ec-c008-4ac4-beba-99f04fe7b00e",
   "metadata": {},
   "source": [
    "## Concatenate datasets vertically"
   ]
  },
  {
   "cell_type": "code",
   "execution_count": null,
   "id": "7986ce89-a9a1-443b-b4dd-320a686c9ce8",
   "metadata": {},
   "outputs": [],
   "source": [
    "df_concat = pd.concat([df15, df16, df17, df18, df19], ignore_index=True)\n",
    "df_concat = df_concat.round(3)\n",
    "df_concat"
   ]
  },
  {
   "cell_type": "code",
   "execution_count": null,
   "id": "f07d25e9-32e9-40b9-b30e-651c88229757",
   "metadata": {},
   "outputs": [],
   "source": [
    "df_concat['country'].unique().tolist()"
   ]
  },
  {
   "cell_type": "code",
   "execution_count": null,
   "id": "f03356d4-521b-4f80-a6ea-3ac7aa13ca5d",
   "metadata": {},
   "outputs": [],
   "source": [
    "replacement_dict = {\n",
    "    'Palestinian Territories':'Palestine',\n",
    "    'Congo (Brazzaville)':'Republic of the Congo',\n",
    "    'Congo (Kinshasa)':'Democratic Republic of the Congo',\n",
    "    'Taiwan Province of China':'Taiwan',\n",
    "    'Hong Kong S.A.R., China':'Hong Kong',\n",
    "    'Trinidad & Tobago':'Trinidad and Tobago',\n",
    "    'Swaziland': 'Eswatini',\n",
    "    'Somaliland region':'Somaliland'\n",
    "}"
   ]
  },
  {
   "cell_type": "code",
   "execution_count": null,
   "id": "e1c5c9a9-340b-4614-b581-c45e73a405c2",
   "metadata": {},
   "outputs": [],
   "source": [
    "df_concat['country'] = df_concat['country'].replace(replacement_dict)"
   ]
  },
  {
   "cell_type": "code",
   "execution_count": null,
   "id": "54a02c57-d9b5-47fc-8777-0727b66773a5",
   "metadata": {},
   "outputs": [],
   "source": [
    "df_concat"
   ]
  },
  {
   "cell_type": "markdown",
   "id": "1f6aaa6b-9bac-46c0-92c4-ac9e6676b291",
   "metadata": {},
   "source": [
    "Potential hypotheses\n",
    "- Correlation between happiness and GDP\n",
    "- Correlation between life expectancy and something else (for example)"
   ]
  }
 ],
 "metadata": {
  "kernelspec": {
   "display_name": "Python 3 (ipykernel)",
   "language": "python",
   "name": "python3"
  },
  "language_info": {
   "codemirror_mode": {
    "name": "ipython",
    "version": 3
   },
   "file_extension": ".py",
   "mimetype": "text/x-python",
   "name": "python",
   "nbconvert_exporter": "python",
   "pygments_lexer": "ipython3",
   "version": "3.12.2"
  }
 },
 "nbformat": 4,
 "nbformat_minor": 5
}
