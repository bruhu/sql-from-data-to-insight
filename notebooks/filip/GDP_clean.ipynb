{
 "cells": [
  {
   "cell_type": "code",
   "execution_count": 56,
   "id": "ca7ddbf7-92e5-4cec-b785-6453f2a07192",
   "metadata": {},
   "outputs": [],
   "source": [
    "import pandas as pd\n"
   ]
  },
  {
   "cell_type": "code",
   "execution_count": 58,
   "id": "c2579407-ad5f-4f1d-a03a-5f3f51b3c561",
   "metadata": {
    "editable": true,
    "slideshow": {
     "slide_type": ""
    },
    "tags": []
   },
   "outputs": [],
   "source": [
    "df_gdp = pd.read_csv('gdp-per-capita-worldbank-2019.csv')\n",
    "df_life = pd.read_csv('life_expectancy_data.csv')\n",
    "df_freedom = pd.read_csv('HFI2021.csv')"
   ]
  },
  {
   "cell_type": "code",
   "execution_count": 60,
   "id": "7a630480-a9bd-4a93-b852-c6fb9ccb6ae6",
   "metadata": {
    "editable": true,
    "slideshow": {
     "slide_type": ""
    },
    "tags": []
   },
   "outputs": [
    {
     "data": {
      "text/plain": [
       "Index(['Entity', 'Code', 'Year',\n",
       "       'GDP per capita, PPP (constant 2017 international $)'],\n",
       "      dtype='object')"
      ]
     },
     "execution_count": 60,
     "metadata": {},
     "output_type": "execute_result"
    }
   ],
   "source": [
    "df_gdp.columns"
   ]
  },
  {
   "cell_type": "code",
   "execution_count": 62,
   "id": "fa213b4e-f882-4eb0-87cd-daf17bd09098",
   "metadata": {},
   "outputs": [],
   "source": [
    "#raname column\n",
    "df_gdp.rename(columns={'Entity': 'entity', \n",
    "                       'Code': 'code', \n",
    "                       'Year': 'year', \n",
    "                       'GDP per capita, PPP (constant 2017 international $)': 'gdp_per_capita_ppp'}, inplace=True)\n"
   ]
  },
  {
   "cell_type": "code",
   "execution_count": 64,
   "id": "c1b8d14c-2a7d-4d33-986b-45a205bd461c",
   "metadata": {},
   "outputs": [
    {
     "data": {
      "text/plain": [
       "Index(['entity', 'code', 'year', 'gdp_per_capita_ppp'], dtype='object')"
      ]
     },
     "execution_count": 64,
     "metadata": {},
     "output_type": "execute_result"
    }
   ],
   "source": [
    "df_gdp.columns"
   ]
  },
  {
   "cell_type": "code",
   "execution_count": 66,
   "id": "3c325923-62ca-4430-b475-79d19c25b4f6",
   "metadata": {},
   "outputs": [],
   "source": [
    "#rounded to 2 decimal\n",
    "df_gdp['gdp_per_capita_ppp'] = df_gdp['gdp_per_capita_ppp'].round(2)"
   ]
  },
  {
   "cell_type": "code",
   "execution_count": 68,
   "id": "e6084193-f1b0-4e9c-b42f-4600435fe449",
   "metadata": {},
   "outputs": [
    {
     "data": {
      "text/html": [
       "<div>\n",
       "<style scoped>\n",
       "    .dataframe tbody tr th:only-of-type {\n",
       "        vertical-align: middle;\n",
       "    }\n",
       "\n",
       "    .dataframe tbody tr th {\n",
       "        vertical-align: top;\n",
       "    }\n",
       "\n",
       "    .dataframe thead th {\n",
       "        text-align: right;\n",
       "    }\n",
       "</style>\n",
       "<table border=\"1\" class=\"dataframe\">\n",
       "  <thead>\n",
       "    <tr style=\"text-align: right;\">\n",
       "      <th></th>\n",
       "      <th>gdp_per_capita_ppp</th>\n",
       "    </tr>\n",
       "  </thead>\n",
       "  <tbody>\n",
       "    <tr>\n",
       "      <th>0</th>\n",
       "      <td>2079.92</td>\n",
       "    </tr>\n",
       "    <tr>\n",
       "      <th>1</th>\n",
       "      <td>13653.25</td>\n",
       "    </tr>\n",
       "    <tr>\n",
       "      <th>2</th>\n",
       "      <td>11627.28</td>\n",
       "    </tr>\n",
       "    <tr>\n",
       "      <th>3</th>\n",
       "      <td>6602.27</td>\n",
       "    </tr>\n",
       "    <tr>\n",
       "      <th>4</th>\n",
       "      <td>23638.69</td>\n",
       "    </tr>\n",
       "    <tr>\n",
       "      <th>...</th>\n",
       "      <td>...</td>\n",
       "    </tr>\n",
       "    <tr>\n",
       "      <th>203</th>\n",
       "      <td>3070.40</td>\n",
       "    </tr>\n",
       "    <tr>\n",
       "      <th>204</th>\n",
       "      <td>10252.00</td>\n",
       "    </tr>\n",
       "    <tr>\n",
       "      <th>205</th>\n",
       "      <td>16877.47</td>\n",
       "    </tr>\n",
       "    <tr>\n",
       "      <th>206</th>\n",
       "      <td>3372.36</td>\n",
       "    </tr>\n",
       "    <tr>\n",
       "      <th>207</th>\n",
       "      <td>2203.40</td>\n",
       "    </tr>\n",
       "  </tbody>\n",
       "</table>\n",
       "<p>208 rows × 1 columns</p>\n",
       "</div>"
      ],
      "text/plain": [
       "     gdp_per_capita_ppp\n",
       "0               2079.92\n",
       "1              13653.25\n",
       "2              11627.28\n",
       "3               6602.27\n",
       "4              23638.69\n",
       "..                  ...\n",
       "203             3070.40\n",
       "204            10252.00\n",
       "205            16877.47\n",
       "206             3372.36\n",
       "207             2203.40\n",
       "\n",
       "[208 rows x 1 columns]"
      ]
     },
     "metadata": {},
     "output_type": "display_data"
    }
   ],
   "source": [
    "display(df_gdp[['gdp_per_capita_ppp']])"
   ]
  },
  {
   "cell_type": "code",
   "execution_count": 70,
   "id": "5a044a0b-1a5f-4f76-b143-c5c236ff5d1f",
   "metadata": {
    "editable": true,
    "slideshow": {
     "slide_type": ""
    },
    "tags": []
   },
   "outputs": [
    {
     "data": {
      "text/plain": [
       "0"
      ]
     },
     "execution_count": 70,
     "metadata": {},
     "output_type": "execute_result"
    }
   ],
   "source": [
    "df_gdp['gdp_per_capita_ppp'].isnull().sum()"
   ]
  },
  {
   "cell_type": "code",
   "execution_count": 72,
   "id": "cc6bb208-be5c-4bdb-83b9-6a32ac42158d",
   "metadata": {},
   "outputs": [],
   "source": [
    "df_gdp.to_csv(\"cleaned_gdp_data.csv\", index= False)"
   ]
  },
  {
   "cell_type": "code",
   "execution_count": null,
   "id": "3b9d2084-5e09-44ff-958b-a7b37c582193",
   "metadata": {
    "editable": true,
    "slideshow": {
     "slide_type": ""
    },
    "tags": []
   },
   "outputs": [],
   "source": []
  }
 ],
 "metadata": {
  "kernelspec": {
   "display_name": "Python 3 (ipykernel)",
   "language": "python",
   "name": "python3"
  },
  "language_info": {
   "codemirror_mode": {
    "name": "ipython",
    "version": 3
   },
   "file_extension": ".py",
   "mimetype": "text/x-python",
   "name": "python",
   "nbconvert_exporter": "python",
   "pygments_lexer": "ipython3",
   "version": "3.12.4"
  }
 },
 "nbformat": 4,
 "nbformat_minor": 5
}
